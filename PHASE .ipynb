{
 "cells": [
  {
   "cell_type": "markdown",
   "metadata": {},
   "source": [
    "# <center> Exploring Phase Transition in 1D Ising Model</center>"
   ]
  },
  {
   "cell_type": "markdown",
   "metadata": {},
   "source": [
    "We have already simulated 1d Ising model for two cases  <a href=\"https://www.compphy.com/ising-model-1d-interacting-spins-in-absence-of-external-field/\" target=\"_blank\">1.Absence of External Field  </a> and  <a href=\"https://www.compphy.com/1d-ising-model-interacting-spins-in-the-presence-of-external-field/\" target=\"_blank\">2. Presence of External Field</a> using Metropolis algorithm and measured some everage quantities like magnetization and energy etc. However, we did not dwell much on the analytical solution and non existence of phase transition for 1D. In this notebook, I will be first deriving the expressions for partition and correlation functions. After this we will study the phase transition both theoretically and numerically.\n",
    "\n",
    "In 1920, Ising Model was invented by Wilhelm Lenz as an exercise in ferromagnetism and given to his PhD student Ernst Ising, who solved the one-dimensional case (publication Z. Phys. 31, 253Ð258, 1925).Since then, these models are much of interest in Statistical mechanics because their analytical solution can be solved exactly for 1d and 2d case. In 3d it gets complicated but can be solved under certain assumptions.\n",
    "\n",
    "### <center> Hamiltonian  </center>"
   ]
  },
  {
   "cell_type": "markdown",
   "metadata": {},
   "source": [
    "In general, the Hamiltonian for spin configuration can be written as\n",
    "\\begin{equation}\n",
    "H = -J \\sum_{<ij>} \\sigma_i \\sigma_j - \\alpha \\sum_{k = 1}^N \\sigma_k  \n",
    "\\end{equation}\n",
    "\n",
    "Here first term is due to, spin-spin interaction and the sum is performed for nearest neighbors and   $ \\sigma $ represent magnetic spin which can take two values $ \\pm 1$ (+1 for spin up and -1 for spin down). J represents the strength of the interaction. If $J>0$, then spin tends to align itself parallel($\\uparrow \\uparrow$,$\\downarrow \\downarrow$) to it's nearest neighbor and for $J<0$ spin tends to align anti parallel($\\uparrow \\downarrow$,$\\downarrow \\uparrow$) to it's nearest neighbor. \n",
    "<br> \n",
    "    \n",
    "\n",
    "    \n",
    "    \n",
    "    "
   ]
  },
  {
   "cell_type": "markdown",
   "metadata": {},
   "source": [
    "Second term in the expression represents, Interaction of spin configuration with the external field and $\\alpha$  = field strength. Fortunately we are turning this field off in this notebook so $\\alpha = 0$.\n",
    "\n",
    "Let say we have 1D Ising chain of N spins. $eq(1)$ becomes-\n",
    "\n",
    "\\begin{equation*}\n",
    "H = -J \\sum_{i = 1}^{N-1} \\sigma_i \\sigma_j\n",
    "\\end{equation*}\n",
    "\n",
    "Note that the summation is from 1 to N-1. It represents periodic boundary conditions are being avoided. The reason will be clear, when we calculate partition function. If you were to use periodic boundary condition you just need to add one more term in eq(1) i.e. ($-J\\sigma_1\\sigma_N$). By taking system large enough we can get rid of boundary effects."
   ]
  },
  {
   "cell_type": "markdown",
   "metadata": {},
   "source": [
    "### <center> Partition Function </center>"
   ]
  },
  {
   "cell_type": "markdown",
   "metadata": {},
   "source": [
    "Since we are probing the existence  of ferromagnetism in Ising Model, therefore it is required to put the spin configuration in some heat bath of temperature T. Now this is an example of Canonical System and to analyze such systems it is required to first calculate the partition function. Which acts like a \"Bread and Butter\" for Canonical Systems. Here we will be using the partition function to calculate the probability of all spin being up(or down) at temperature T.\n",
    "\n"
   ]
  },
  {
   "cell_type": "markdown",
   "metadata": {},
   "source": [
    "<br>\n",
    "\n",
    "\n",
    "Partition function is defined as -\n",
    "\\begin{equation}\n",
    "Z = \\sum_r e^{-\\beta E_r}\n",
    "\\end{equation}\n",
    "\n",
    "Where $\\beta = 1/T$, $E_r $ represents the energy of the configuration $r$ and summation is over all possible microstates. For 1D non periodic N spin system, we can write energy expression for configuration ($\\sigma_1,\\sigma_2,\\sigma_3,......,\\sigma_N$) as -\n",
    "\n",
    "\\begin{equation}\n",
    "E(\\sigma_1,\\sigma_2,\\sigma_3,......,\\sigma_N) = -j \\big(\\sigma_1\\sigma_2+\\sigma_2\\sigma_3+\\sigma_3\\sigma_4+......+\\sigma_{N-1}\\sigma_N\\big )\n",
    "\\end{equation}\n",
    "\n",
    "This sum contains $N-1$ terms.And each spin can take two values $\\pm1$ so the summation in equation (2) can be written as \n",
    "\n",
    "\\begin{equation}\n",
    "Z = \\sum_{\\sigma_1 \\pm1} \\sum_{\\sigma_2 \\pm1} \\sum_{\\sigma_3 \\pm1}.....\\sum_{\\sigma_N \\pm1} e^{\\beta j (\\sigma_1\\sigma_2+\\sigma_2\\sigma_3+\\sigma_3\\sigma_4+......+\\sigma_{N-1}\\sigma_N)}\n",
    "\\end{equation}\n",
    "\n"
   ]
  },
  {
   "cell_type": "markdown",
   "metadata": {},
   "source": [
    "Don't worry!It's not that difficult to solve. There is a cute trick here. Consider the following expression first-\n",
    "\n",
    "\\begin{equation}\n",
    "Z = \\sum_{\\sigma_1 \\pm1} \\sum_{\\sigma_2 \\pm1}e^{\\beta J\\sigma_1 \\sigma_2} \\sum_{\\sigma_3 \\pm1}e^{\\beta J\\sigma_2 \\sigma_3}.....\\sum_{\\sigma_{N-1} \\pm 1} e^{\\beta J\\sigma_{N-2} \\sigma_{N-1}}\\sum_{\\sigma_N \\pm1} e^{\\beta J\\sigma_{N-1} \\sigma_N}\n",
    "\\end{equation}\n",
    "\n",
    "\n",
    "Since we have imposed non-periodic boundary condition, that is why in the energy expression,boundary spins $\\sigma_1$ and $\\sigma_N$ only appear once. Now, if we perform the summation over $\\sigma_N$ first , we get \n",
    "\n",
    "\\begin{equation}\n",
    "Z_N = \\sum_{\\sigma_N = \\pm1} e^{\\beta J\\sigma_{N-1}\\sigma_N} = e^{\\beta J\\sigma_N-1} + e^{-\\beta J\\sigma_N-1}  \n",
    "\\end{equation}\n",
    "<br>\n",
    "\\begin{equation}\n",
    "Z_N = 2\\cosh(\\beta J \\sigma_{N-1})\n",
    "\\end{equation}\n",
    "\n",
    "Now there is catch. fortunately cosh is an even function and $\\sigma_{N-1}$ can take two possible values $\\pm1$. So removing it in the parenthesis won't make any difference. Finally we get\n",
    "\\begin{equation}\n",
    "Z_N = 2\\cosh(\\beta J )\n",
    "\\end{equation}\n",
    "<br>\n",
    "Which does not depend upon any $\\sigma$.Clearly, performing summation of  $\\sigma_{N}$ kills one $\\sigma_{N-1}$ That is why we did not impose the periodic boundary condition. Had it been there, we would have ended up two terms for both$\\sigma_1$ and $\\sigma _{N-1}$ where no spin could kill any spin "
   ]
  },
  {
   "cell_type": "markdown",
   "metadata": {},
   "source": [
    "Now same approach can be used for summation of  $\\sigma_{N-1}$....$\\sigma_2$.Eventually killing one spin at a time will give us the following expression -\n",
    "\n",
    "\\begin{equation}\n",
    "Z = \\big (2\\cosh\\beta J \\big)^{N-1} \\sum_{\\sigma_1 \\pm 1}  = 2 \\big (2\\cosh\\beta J \\big)^{N-1}\n",
    "\\end{equation}\n",
    "\n",
    "Note that $\\sigma_1$ was left alone because it was at boundary.\n",
    "\n",
    "\n"
   ]
  },
  {
   "cell_type": "markdown",
   "metadata": {},
   "source": [
    "<br>\n",
    "\n",
    "having partition function we can calculate what is the probability of all spin pointing upwards (or downward).Energy of this configuration will be $E = -J(N-1)$ and by Boltzmann Distribution this probability is given by -\n",
    "\\begin{equation}\n",
    "P(\\uparrow) = \\frac{1}{2} \\frac{e^{\\beta J (N-1)}}{(2\\cosh \\beta J)^{N-1}}\n",
    "\\end{equation}\n"
   ]
  },
  {
   "cell_type": "markdown",
   "metadata": {},
   "source": [
    "We will get the same expression for $P(\\downarrow)$(check it!). Looking such analytical function, one would deduce that there will be no phase transition at finite temperature and indeed there is not. However Let's plot this function for various values of N and T. I am taking J = 1 for convenient."
   ]
  },
  {
   "cell_type": "code",
   "execution_count": 27,
   "metadata": {},
   "outputs": [
    {
     "data": {
      "image/png": "[encoded data removed]",
      "text/plain": [
       "<Figure size 576x360 with 1 Axes>"
      ]
     },
     "metadata": {
      "needs_background": "light"
     },
     "output_type": "display_data"
    }
   ],
   "source": [
    "import numpy as np  #importing numpy and matplotlib library\n",
    "from matplotlib import pyplot as plt \n",
    "N_array  = np.array([10,100,1000,10000000])  ##total numbers of spin\n",
    "temperature = np.linspace(0.1,4,1000)  ##array for temperature \n",
    "\n",
    "def P_up(n): ##function for calculating array  for probability at various temperature\n",
    "    beta = 1/temperature\n",
    "    return 0.5*((np.exp(beta))/(2*np.cosh(beta)))**(N-1)\n",
    "\n",
    "plt.figure(figsize = (8,5)) ##importing figure\n",
    "plt.xlabel('Temperature') ##labelling axes\n",
    "plt.ylabel(r'$P(\\uparrow)$') \n",
    "\n",
    "for i in range(len(N_array)):\n",
    "    N = N_array[i]\n",
    "    Prob_arr = P_up(N)\n",
    "    \n",
    "    plt.plot(temperature,Prob_arr,label = \"N = \"+str(N))\n",
    "plt.legend()\n",
    "plt.show()"
   ]
  },
  {
   "cell_type": "markdown",
   "metadata": {},
   "source": [
    "<br>\n",
    "We see that as we increase N, the probability of finding all spins up tends to a step function, being zero above a\n",
    "certain temperature and exactly 1/2 below.Also the temperature at which this \"jump\" occurs, shifts towards 'zero' as $N\\rightarrow \\infty$. This is a strong indication that finite temperatures destroys the ferromagnetic order (ie, that the\n",
    "model is ferromagnetic only at $T = 0$)."
   ]
  },
  {
   "cell_type": "markdown",
   "metadata": {},
   "source": [
    "### <center> A Clever  Transformation  </center>"
   ]
  },
  {
   "cell_type": "markdown",
   "metadata": {},
   "source": [
    "consider the following transformation- \n",
    "\\begin{equation}\n",
    "\\tau_1 =  \\sigma_1 \\\\\n",
    "\\tau_2= \\sigma_1 \\sigma_2 \\\\\n",
    "\\tau_3 = \\sigma_3\\sigma_2 \\\\\n",
    ".........\\\\\n",
    "\\tau_N = \\sigma_N \\sigma_{N-1}\n",
    "\\end{equation}\n",
    "\n",
    "Since $\\sigma \\in \\{-1 ,+1 \\} $, so also $\\tau$ can take only two values  $\\{-1 ,+1 \\} $.Now we can rewrite the energy expression as following"
   ]
  },
  {
   "cell_type": "markdown",
   "metadata": {},
   "source": [
    "\\begin{equation*}\n",
    "E =  -j \\big(\\sigma_1\\sigma_2+\\sigma_2\\sigma_3+\\sigma_3\\sigma_4+......+\\sigma_{N-1}\\sigma_N\\big )\n",
    "\\end{equation*}\n",
    "\n",
    "using the transformation described in equation 11 ,we get\n",
    "\n",
    "\\begin{equation*}\n",
    "E = -J (\\tau_2 +\\tau_3 + .......+\\tau_N)\n",
    "\\end{equation*}"
   ]
  },
  {
   "cell_type": "markdown",
   "metadata": {},
   "source": [
    "Equivalently summation in $eq(5)$ can be written as \n",
    "\\begin{equation}\n",
    "Z = \\sum_{\\tau_1 \\pm1} \\bigg (\\sum_{\\tau_2 \\pm1}e^{\\beta J\\tau_2} \\bigg) \\bigg( \\sum_{\\tau_3 \\pm1}e^{\\beta J\\tau_3} \\bigg).....\\bigg (\\sum_{\\tau_{N-1} \\pm 1} e^{\\beta J\\tau_{N-1}} \\bigg ) \\bigg (\\sum_{\\tau_N \\pm1} e^{\\beta J\\tau_N} \\bigg)\n",
    "\\end{equation}"
   ]
  },
  {
   "cell_type": "markdown",
   "metadata": {},
   "source": [
    "Essentially, we have transformed $N-1$ **bonds** into N-1 independent **sites**. This is called **duality transformation**. Clearly $eq(12)$ would still gives the same partition function as before\n",
    "\n",
    "\\begin{equation*}\n",
    "Z = 2\\big ( 2 \\cos \\beta J \\big)^{N-1}\n",
    "\\end{equation*}\n",
    "\n"
   ]
  },
  {
   "cell_type": "markdown",
   "metadata": {},
   "source": [
    "There is a reason I introduced such transformation. This transformation will help us to calculate very interesting quantity which is known as the **Correlation Function**. Which helps us to study the phase transition quantitatively. \n",
    "\n",
    "Correlation Function helps us to quantify degree of statistical correlation between two spins at different cites. It's average is given by the formula $\\rightarrow$\n",
    "\n",
    "\\begin{equation}\n",
    "< \\sigma_n \\sigma_{n+r} >\\ \\ = \\ \\  \\frac{1}{Z} \\sum_{\\sigma_1 \\sigma_2 \\sigma_3.... \\sigma_N}  \\sigma_n \\sigma_{n+r} e^{\\beta j (\\sigma_1\\sigma_2+\\sigma_2\\sigma_3+\\sigma_3\\sigma_4+......+\\sigma_{N-1}\\sigma_N)}\n",
    "\\end{equation}\n",
    "\n",
    "where n is the spin index and r is the distance between two spins"
   ]
  },
  {
   "cell_type": "markdown",
   "metadata": {},
   "source": [
    "To calculate this average, $eq(11)$ can help us. Note that for any spin $\\sigma $ we have  $\\sigma^2 = 1$ and thus expression $\\sigma_n \\sigma_{n+r}$ can be rewritten as\n",
    "\n",
    "\\begin{equation*}\n",
    "\\sigma_n \\sigma_{n+r} = \\sigma_n \\sigma_{n+1} \\sigma_{n+1} \\sigma_{n+2} \\sigma_{n+2}......\\sigma_{n+r-1}\\sigma_{n+r}  \n",
    "\\end{equation*}\n",
    "Using $\\sigma- \\tau$ transformation it becomes-\n",
    "\n",
    "\\begin{equation*}\n",
    "\\sigma_n \\sigma_{n+r} = \\tau_{n+1} \\tau_{n+2} \\tau_{n+3}..... \\tau_{n+r}\n",
    "\\end{equation*}\n",
    "\n",
    "Where RHS contains total $r$ number of $\\tau's$. Finally the sum in $eq(13)$ can be written in terms of $\\tau's$ i.e.\n"
   ]
  },
  {
   "cell_type": "markdown",
   "metadata": {},
   "source": [
    "\\begin{equation}\n",
    "< \\sigma_n \\sigma_{n+r} > \\ \\ = \\ \\ \\frac{1}{Z} \\sum_{\\tau = \\pm 1} \\bigg ( \\sum_{\\tau_2 = \\pm 1} e^{\\beta J \\tau_2}   \\bigg )  \\bigg (\\sum_{\\tau_3 = \\pm 1} e^{\\beta J \\tau_3}  \\bigg ) .. \\bigg (\\sum_{\\tau_{n+1} = \\pm 1} \\tau_{n+1} e^{\\beta J \\tau_{n+1}} \\bigg ) \\bigg (\\sum_{\\tau_{n+r} = \\pm 1} \\tau_{n+r} e^{\\beta J \\tau_{n+r}} \\bigg ).. \\bigg ( \\sum_{\\tau_N = \\pm 1} e^{\\beta J \\tau_N}   \\bigg )\n",
    "\\end{equation}"
   ]
  },
  {
   "cell_type": "markdown",
   "metadata": {},
   "source": [
    "Few points to note down here. There are total N summations out of them r of the type $\\sum_{\\tau = \\pm 1} \\tau e^{\\beta J\\tau} $ and $N-r$ of the type $\\sum_{\\tau = \\pm 1} e^{\\beta J\\tau}$. These summations are- \n",
    "\n",
    "\\begin{equation*}\n",
    "\\sum_{\\tau \\pm 1} \\tau e^{\\beta J \\tau }   = e^{\\beta J } -  e^{-\\beta J } =  2 \\sinh \\beta J\n",
    "\\end{equation*}\n",
    "and \n",
    "\\begin{equation*}\n",
    "\\sum_{\\tau \\pm 1}e^{\\beta J \\tau }   = e^{\\beta J } +  e^{-\\beta J } =  2 \\cosh \\beta J\n",
    "\\end{equation*}\n",
    "\n",
    "Putting these values in $eq(14)$ eventually we get\n",
    "\n",
    "\\begin{equation*}\n",
    "< \\sigma_n \\sigma_{n+r} > \\ \\ = \\ \\  \\frac{2}{2} \\frac{\\big ( 2 \\cosh \\beta J \\big )^{N-r} \\big ( 2 \\sinh \\beta J \\big )^{r}}{\\big ( 2 \\cosh \\beta J \\big )^{N}}\n",
    "\\end{equation*}\n",
    "<br>\n",
    "which gives \n",
    "\\begin{equation}\n",
    "\\boxed {< \\sigma_n \\sigma_{n+r} > \\ \\ = \\ \\ \\big (\\tanh \\beta J \\big )^r}\n",
    "\\end{equation}\n",
    "\n"
   ]
  },
  {
   "cell_type": "markdown",
   "metadata": {},
   "source": [
    "## <center> Python Code </center>\n",
    "Numerically we will measure this average simulating the  <a href=\"https://www.compphy.com/ising-model-1d-interacting-spins-in-absence-of-external-field/\" target=\"_blank\">  Ising Model in 1d</a> using  <a href=\"https://www.compphy.com/metropolis-algorithm/\" target=\"_blank\">Metropolis Algorithm</a> for 1000 spins by taking $J = 1,T = 2$ and external field $\\alpha = 0$. Initially we will put the system in random configuration. The total number of iterations are taken to be a million. Where for first 100000 iterations, we did not measure anything and wait for the system to get thermalized.After that we start calculating $\\sigma_n \\sigma_{n+r} $\n",
    "\n",
    "<br>\n",
    "This quantity can be calculated as follows- for n = 0, which is the first spin i.e.$\\sigma_0$ =  Spin_array[0]. We  multiply $\\sigma_0$ by the array of all spins i.e. Spin_array. Doing this will insure that we have calculated $\\sigma_n \\sigma_{n+r} $ for r = 0 to r = 999 in single line of code. An average is calculated at the end of the simulation and results was compared with the $eq(15)$  Note that here $r$ is the distance between two spins as shown below. For n = 1000, the maximum r we can have is 999(verify it).\n",
    "\n",
    "![Alt](https://github.com/comphyorg/1d_phase/blob/master/2.jpg?raw=true)\n",
    "\n",
    "<br> \n",
    "<i>NOTE : We have taken distance between two spins to be unity</i>"
   ]
  },
  {
   "cell_type": "code",
   "execution_count": 30,
   "metadata": {},
   "outputs": [
    {
     "name": "stderr",
     "output_type": "stream",
     "text": [
      "100%|█████████████████████████████████████████████████████████████████████| 1000000/1000000 [00:39<00:00, 25634.68it/s]\n"
     ]
    }
   ],
   "source": [
    "##importing libraries\n",
    "import numpy as np  ##Essential for matrix calculation in python\n",
    "from tqdm import tqdm  ## measures the speed of the for loop\n",
    "import matplotlib.pyplot as plt  ##plotting librar\n",
    "\n",
    "\n",
    "iter = 1000000 ##iteration number\n",
    "J = 1 ##strength of spin-spin interaction\n",
    "N = 1000  ##number of spins\n",
    "\n",
    "\n",
    "temp = 2#Temp_array[i7]  ##indexing temperature value\n",
    "Beta = 1.0/temp  \n",
    "spin_values = np.array([1,-1])  ##+1 for spin up and -1 for spin down \n",
    "Spin_array = np.random.choice(spin_values,size = N)  ##randomely generating spin array \n",
    "\n",
    "stack = 0 ##this will calculate sigma_n *sigma_{n+r} at each step\n",
    "avg_count = 0 ## it will calculate average number of measurement\n",
    "for i in tqdm(range(iter)):  ##starting loop\n",
    "    r_n = np.random.randint(0,N)  ##generating a random number\n",
    "    sigma_mu = 1*Spin_array[r_n] ##indexing spin value\n",
    "    del_E = 0 ##change in energy\n",
    "    \n",
    "    ######################################\n",
    "    ##Calculating change in energy by NOT obeying periodic boundary conditions\n",
    "    if(r_n == 0):  ##if spin selected is first spin(boundary)\n",
    "\n",
    "        del_E =2*J*sigma_mu*(Spin_array[1])\n",
    "    elif(r_n == N-1): ##if spin selected is last spin(boundary)\n",
    "\n",
    "        del_E = 2*J*sigma_mu*(Spin_array[N-2])\n",
    "    else:\n",
    "        del_E = 2*J*sigma_mu*(Spin_array[r_n+1]+Spin_array[r_n-1]) ## for any ordinary spin\n",
    "    #######################################    \n",
    "\n",
    "\n",
    "    ### FLIPPING SPIN ACC to METROPOLIS RULE\n",
    "    if(np.random.uniform()<np.exp(-Beta*del_E)):\n",
    "        Spin_array[r_n] = -1*Spin_array[r_n]\n",
    "\n",
    "\n",
    "    ###Measuring Correlation function \n",
    "    if(i >=100000 ):\n",
    "        avg_count += 1 ##number of times averaging has been performed\n",
    "        stack += 1*Spin_array[0]*Spin_array ##Calculating average for each r at once\n",
    "\n",
    "\n",
    "         \n",
    "#############\n",
    "\n",
    "\n",
    "\n",
    "\n"
   ]
  },
  {
   "cell_type": "code",
   "execution_count": 31,
   "metadata": {
    "scrolled": false
   },
   "outputs": [
    {
     "data": {
      "image/png": "[encoded data removed]",
      "text/plain": [
       "<Figure size 720x504 with 1 Axes>"
      ]
     },
     "metadata": {
      "needs_background": "light"
     },
     "output_type": "display_data"
    }
   ],
   "source": [
    "avg = stack/avg_count ##average of correlation function\n",
    "\n",
    "R_array = np.arange(0,N)  ## array for r\n",
    "th_curve = (np.tanh(Beta))**R_array  ## THEORETICAL curve\n",
    "\n",
    "plt.figure(figsize = (10,7))\n",
    "plt.scatter(R_array,avg,label = \"Metropolis Algorithm\",color = 'r')\n",
    "plt.plot(R_array,th_curve,label = \"Theorey\")\n",
    "plt.xlim(0,50)\n",
    "plt.xlabel(r'$r$')\n",
    "plt.ylabel(r'$\\sigma_n \\sigma_{n+r} $')\n",
    "plt.legend()\n",
    "plt.show()\n"
   ]
  },
  {
   "cell_type": "markdown",
   "metadata": {},
   "source": [
    "<br>\n",
    "\n",
    "As can be seen, the numerical average obtained from Metropolis Algorithm agrees with the experiment with some fluctuation about zero. Now let's try to decode  what this graph tells us.\n",
    "\n",
    "A particular spin is maximally correlated to itself(This is so obvious). Due to the only nearest neighbor interaction present in the Hamiltonian, we get second max value that lies between 0.6 and 0.5 at r = 1. As we go beyond (increase r) the correlation decreases exponentially due to the finite temperature which suggest that no Phase Transition is possible. Apart from this, looking at the $eq(15)$ one could clearly decipher that \"No phase transition will take place at finite temperature\" Because $\\tanh$ is a continuous function for all $T>0$ but when $T \\rightarrow 0 $ it blows up and $VOILA!!!$ we have phase transition at $T =0$       \n"
   ]
  }
 ],
 "metadata": {
  "kernelspec": {
   "display_name": "Python 3",
   "language": "python",
   "name": "python3"
  },
  "language_info": {
   "codemirror_mode": {
    "name": "ipython",
    "version": 3
   },
   "file_extension": ".py",
   "mimetype": "text/x-python",
   "name": "python",
   "nbconvert_exporter": "python",
   "pygments_lexer": "ipython3",
   "version": "3.8.5"
  },
  "latex_envs": {
   "LaTeX_envs_menu_present": true,
   "autoclose": false,
   "autocomplete": false,
   "bibliofile": "biblio.bib",
   "cite_by": "apalike",
   "current_citInitial": 1,
   "eqLabelWithNumbers": true,
   "eqNumInitial": 1,
   "hotkeys": {
    "equation": "Ctrl-E",
    "itemize": "Ctrl-I"
   },
   "labels_anchors": false,
   "latex_user_defs": false,
   "report_style_numbering": false,
   "user_envs_cfg": false
  }
 },
 "nbformat": 4,
 "nbformat_minor": 4
}
